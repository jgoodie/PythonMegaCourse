{
 "cells": [
  {
   "cell_type": "code",
   "execution_count": 6,
   "metadata": {},
   "outputs": [],
   "source": [
    "import pandas\n",
    "from bokeh.charts import Scatter, output_file, show\n",
    "\n",
    "df = pandas.DataFrame(columns=[\"X-Axis\",\"Y-Axis\"])\n",
    "df[\"X-Axis\"]=[1,2,3,4,5]\n",
    "df[\"Y-Axis\"]=[5,6,4,5,3]\n",
    "p=Scatter(df,x=\"X-Axis\",y=\"Y-Axis\", title=\"Temperature Observations\", xlabel=\"Day of Observations\", ylabel=\"Temperature\")\n",
    "\n",
    "output_file(\"Scatter_charts.html\")\n",
    "show(p)\n"
   ]
  },
  {
   "cell_type": "code",
   "execution_count": 15,
   "metadata": {},
   "outputs": [],
   "source": [
    "from bokeh.plotting import figure, output_file, show\n",
    "\n",
    "p=figure(plot_width=500, plot_height=500, title=\"Earthquakes\")\n",
    "# p.circle([1,2,3,4,5],[3,4,6,1,7],size=12,color=\"red\",alpha=0.5)\n",
    "# p.triangle([1,2,3,4,5],[3,4,6,1,7],size=12,color=\"red\",alpha=0.5)\n",
    "# p.circle([1,2,3,4,5],[3,4,6,1,7],size=[8,12,14,16,18],color=\"red\",alpha=0.5)\n",
    "p.circle([1,2,3,4,5],[3,4,6,1,7],size=[i*2 for i in [8,12,14,16,18]],color=\"red\",alpha=0.5)\n",
    "show(p)\n",
    "output_file(\"Scatter_plotting.html\")\n"
   ]
  }
 ],
 "metadata": {
  "kernelspec": {
   "display_name": "Python 3",
   "language": "python",
   "name": "python3"
  },
  "language_info": {
   "codemirror_mode": {
    "name": "ipython",
    "version": 3
   },
   "file_extension": ".py",
   "mimetype": "text/x-python",
   "name": "python",
   "nbconvert_exporter": "python",
   "pygments_lexer": "ipython3",
   "version": "3.6.1"
  }
 },
 "nbformat": 4,
 "nbformat_minor": 2
}
