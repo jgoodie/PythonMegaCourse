{
 "cells": [
  {
   "cell_type": "code",
   "execution_count": 64,
   "metadata": {},
   "outputs": [],
   "source": [
    "from pandas_datareader import data\n",
    "import datetime\n",
    "from bokeh.plotting import figure, show, output_file\n",
    "from bokeh.embed import components\n",
    "from bokeh.resources import CDN\n",
    "\n",
    "start=datetime.datetime(2017,1,1)\n",
    "end=datetime.datetime(2017,4,27)\n",
    "# data.DataReader?\n",
    "df=data.DataReader(name=\"HTHIY\",data_source=\"yahoo\",start=start,end=end)\n",
    "\n",
    "def inc_dec(c,o):\n",
    "    if c>o:\n",
    "        val=\"Increase\"\n",
    "    elif o>c:\n",
    "        val=\"Decrease\"\n",
    "    else:\n",
    "        val=\"Equal\"\n",
    "    return val\n",
    "\n",
    "df[\"Status\"]=[inc_dec(c,o) for c,o in zip(df.Close,df.Open)]\n",
    "df[\"Middle\"]=(df.Open+df.Close)/2\n",
    "df[\"Height\"]=abs(df.Open-df.Close)\n",
    "\n",
    "p=figure(x_axis_type='datetime',width=1000,height=300,responsive=True)\n",
    "p.title.text=\"Hitachi, Ltd. (HTHIY)\"\n",
    "p.grid.grid_line_alpha=0.3\n",
    "hours_12_ms=12*60*60*1000\n",
    "p.segment(df.index, df.High, df.index, df.Low, color=\"black\")\n",
    "p.rect(df.index[df.Status==\"Increase\"],df.Middle[df.Status==\"Increase\"], hours_12_ms, df.Height[df.Status==\"Increase\"],\n",
    "       fill_color=\"#CCFFFF\",line_color=\"black\")\n",
    "p.rect(df.index[df.Status==\"Decrease\"],df.Middle[df.Status==\"Decrease\"], hours_12_ms, df.Height[df.Status==\"Decrease\"],\n",
    "       fill_color=\"#FF3333\",line_color=\"black\")\n",
    "\n",
    "# output_file(\"CS.html\")\n",
    "# show(p)\n",
    "script1,div1 = components(p)\n",
    "cdn_js=CDN.js_files\n",
    "cdn_css=CDN.css_files\n"
   ]
  }
 ],
 "metadata": {
  "kernelspec": {
   "display_name": "Python 3",
   "language": "python",
   "name": "python3"
  },
  "language_info": {
   "codemirror_mode": {
    "name": "ipython",
    "version": 3
   },
   "file_extension": ".py",
   "mimetype": "text/x-python",
   "name": "python",
   "nbconvert_exporter": "python",
   "pygments_lexer": "ipython3",
   "version": "3.6.1"
  }
 },
 "nbformat": 4,
 "nbformat_minor": 2
}
