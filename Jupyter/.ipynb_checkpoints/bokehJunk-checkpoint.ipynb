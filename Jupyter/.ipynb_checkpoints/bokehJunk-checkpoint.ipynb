{
 "cells": [
  {
   "cell_type": "code",
   "execution_count": 67,
   "metadata": {
    "collapsed": true
   },
   "outputs": [],
   "source": [
    "import pandas\n",
    "from bokeh.charts import Scatter, output_file, show\n",
    "\n",
    "df = pandas.DataFrame(columns=[\"X-Axis\",\"Y-Axis\"])\n",
    "df[\"X-Axis\"]=[1,2,3,4,5]\n",
    "df[\"Y-Axis\"]=[5,6,4,5,3]\n",
    "p=Scatter(df,x=\"X-Axis\",y=\"Y-Axis\", title=\"Temperature Observations\", xlabel=\"Day of Observations\", ylabel=\"Temperature\",tools='',logo=None)\n",
    "\n",
    "output_file(\"Scatter_charts.html\")\n",
    "show(p)\n"
   ]
  },
  {
   "cell_type": "code",
   "execution_count": 69,
   "metadata": {},
   "outputs": [],
   "source": [
    "from bokeh.plotting import figure, output_file, show\n",
    "\n",
    "# p=figure(plot_width=500, plot_height=500,title=\"Earthquakes\")\n",
    "p=figure(plot_width=500, plot_height=500,tools='pan,resize',logo=None)\n",
    "p.title.text=\"Earthquakes\"\n",
    "p.title.text_color=\"Black\"\n",
    "p.title.align = \"center\"\n",
    "p.title.text_font=\"Calibri\"\n",
    "p.title.text_font_size = \"25px\"\n",
    "p.title.text_font_style=\"bold\"\n",
    "# p.title.background_fill_color = \"#bfc0c1\"\n",
    "p.circle([1,2,3,4,5],[3,4,6,1,7],size=[i*2 for i in [8,12,14,16,18]],color=\"red\",alpha=0.5)\n",
    "p.yaxis.minor_tick_line_color = None\n",
    "p.yaxis.minor_tick_line_color = \"red\"\n",
    "p.xaxis.minor_tick_line_color = None\n",
    "p.xaxis.minor_tick_line_color = \"orange\"\n",
    "p.xaxis.axis_label=\"Time\"\n",
    "p.yaxis.axis_label=\"Value\"\n",
    "show(p)\n",
    "output_file(\"Scatter_plotting.html\")\n"
   ]
  },
  {
   "cell_type": "code",
   "execution_count": 65,
   "metadata": {},
   "outputs": [],
   "source": [
    "dfTA = pandas.read_excel(\"verlegenhuken.xlsx\", sheetname=0)\n",
    "# dfTA = dfTA.set_index(\"ID\")\n",
    "# dfTA.loc[1:,\"Temperature\":\"Pressure\"]\n",
    "# dfTA[\"Pressure\"]=dfTA[\"Pressure\"].apply(lambda x: x/10.0)\n",
    "# dfTA[\"Temperature\"]=dfTA[\"Temperature\"].apply(lambda x: x/10.0)\n",
    "dfTA[\"Pressure\"]=dfTA[\"Pressure\"]/10.0\n",
    "dfTA[\"Temperature\"]=dfTA[\"Temperature\"]/10.0\n",
    "pTA=figure(plot_width=500, plot_height=400)\n",
    "pTA.title.text=\"Temperature and Air Pressure\"\n",
    "pTA.title.align = \"center\"\n",
    "pTA.title.text_font_size = \"25px\"\n",
    "pTA.yaxis.minor_tick_line_color = None\n",
    "pTA.xaxis.minor_tick_line_color = None\n",
    "pTA.xaxis.axis_label=\"Temperature (\\u00b0C)\"\n",
    "pTA.xaxis.axis_label_text_font_size=\"20pt\"\n",
    "pTA.yaxis.axis_label=\"Pressure (hPa)\"\n",
    "pTA.yaxis.axis_label_text_font_size=\"20pt\"\n",
    "# pTA.circle(x=dfTA.loc[1:,\"Temperature\"],y=dfTA.loc[1:,\"Pressure\"],size=1)\n",
    "pTA.circle(x=dfTA[\"Temperature\"],y=dfTA[\"Pressure\"],size=0.5)\n",
    "show(pTA)\n",
    "output_file(\"Temp_Pressure.html\", mode='cdn')\n",
    "# output_file(\"Temp_Pressure.html\", mode='relative')\n",
    "# output_file(\"Temp_Pressure.html\", mode='absolute\n",
    "# output_file(\"Temp_Pressure.html\", mode='inline')\n"
   ]
  }
 ],
 "metadata": {
  "kernelspec": {
   "display_name": "Python 3",
   "language": "python",
   "name": "python3"
  },
  "language_info": {
   "codemirror_mode": {
    "name": "ipython",
    "version": 3
   },
   "file_extension": ".py",
   "mimetype": "text/x-python",
   "name": "python",
   "nbconvert_exporter": "python",
   "pygments_lexer": "ipython3",
   "version": "3.6.1"
  }
 },
 "nbformat": 4,
 "nbformat_minor": 2
}
