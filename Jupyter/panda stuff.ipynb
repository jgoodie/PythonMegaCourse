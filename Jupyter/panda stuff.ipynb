{
 "cells": [
  {
   "cell_type": "code",
   "execution_count": 13,
   "metadata": {},
   "outputs": [
    {
     "data": {
      "text/plain": [
       "ID\n",
       "2            CA 94119\n",
       "3    California 94114\n",
       "Name: State, dtype: object"
      ]
     },
     "execution_count": 13,
     "metadata": {},
     "output_type": "execute_result"
    }
   ],
   "source": [
    "import pandas\n",
    "df6 = pandas.read_csv(\"http://pythonhow.com/supermarkets.csv\")\n",
    "df6 = df6.set_index(\"ID\")\n",
    "# df6.loc[\"1\":\"4\",\"Address\":\"State\"]\n",
    "# df6.loc[\"2\":\"3\",\"State\"]\n",
    "# df6.loc[\"1\":,\"State\"]\n",
    "# df6.loc[1,\"State\"]\n",
    "df6.loc[2:3,\"State\"]\n"
   ]
  }
 ],
 "metadata": {
  "kernelspec": {
   "display_name": "Python 3",
   "language": "python",
   "name": "python3"
  },
  "language_info": {
   "codemirror_mode": {
    "name": "ipython",
    "version": 3
   },
   "file_extension": ".py",
   "mimetype": "text/x-python",
   "name": "python",
   "nbconvert_exporter": "python",
   "pygments_lexer": "ipython3",
   "version": "3.6.1"
  }
 },
 "nbformat": 4,
 "nbformat_minor": 2
}
