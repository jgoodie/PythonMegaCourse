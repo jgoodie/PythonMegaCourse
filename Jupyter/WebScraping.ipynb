{
 "cells": [
  {
   "cell_type": "code",
   "execution_count": 4,
   "metadata": {
    "collapsed": true
   },
   "outputs": [],
   "source": [
    "import requests\n",
    "from bs4 import BeautifulSoup\n"
   ]
  },
  {
   "cell_type": "code",
   "execution_count": 8,
   "metadata": {
    "collapsed": true
   },
   "outputs": [],
   "source": [
    "r=requests.get(\"http://pythonhow.com/example.html\")\n",
    "cntnt = r.content\n",
    "# print(cntnt)"
   ]
  },
  {
   "cell_type": "code",
   "execution_count": 13,
   "metadata": {
    "collapsed": true
   },
   "outputs": [],
   "source": [
    "soup=BeautifulSoup(cntnt,\"html.parser\")\n",
    "# print(soup)\n"
   ]
  },
  {
   "cell_type": "code",
   "execution_count": 20,
   "metadata": {
    "collapsed": true
   },
   "outputs": [],
   "source": [
    "all=soup.find_all(\"div\",{\"class\":\"cities\"})"
   ]
  },
  {
   "cell_type": "code",
   "execution_count": 40,
   "metadata": {},
   "outputs": [
    {
     "name": "stdout",
     "output_type": "stream",
     "text": [
      "[<div class=\"cities\">\n",
      "<h2>London</h2>\n",
      "<p>London is the capital of England and it's been a British settlement since 2000 years ago. </p>\n",
      "</div>, <div class=\"cities\">\n",
      "<h2>Paris</h2>\n",
      "<p>Paris is the capital city of France. It was declared capital since 508.</p>\n",
      "</div>, <div class=\"cities\">\n",
      "<h2>Tokyo</h2>\n",
      "<p>Tokyo is the capital of Japan and one of the most populated cities in the world.</p>\n",
      "</div>]\n"
     ]
    }
   ],
   "source": [
    "print(all)"
   ]
  },
  {
   "cell_type": "code",
   "execution_count": 41,
   "metadata": {},
   "outputs": [
    {
     "name": "stdout",
     "output_type": "stream",
     "text": [
      "London\n",
      "Paris\n",
      "Tokyo\n"
     ]
    }
   ],
   "source": [
    "for x in range(len(all)):\n",
    "    print(all[x].find_all(\"h2\")[0].text)\n"
   ]
  },
  {
   "cell_type": "code",
   "execution_count": 43,
   "metadata": {},
   "outputs": [
    {
     "name": "stdout",
     "output_type": "stream",
     "text": [
      "London\n",
      "Paris\n",
      "Tokyo\n"
     ]
    }
   ],
   "source": [
    "for x in all:\n",
    "    print(x.find_all(\"h2\")[0].text)\n"
   ]
  },
  {
   "cell_type": "code",
   "execution_count": 44,
   "metadata": {},
   "outputs": [
    {
     "name": "stdout",
     "output_type": "stream",
     "text": [
      "London is the capital of England and it's been a British settlement since 2000 years ago. \n",
      "Paris is the capital city of France. It was declared capital since 508.\n",
      "Tokyo is the capital of Japan and one of the most populated cities in the world.\n"
     ]
    }
   ],
   "source": [
    "for x in all:\n",
    "    print(x.find_all(\"p\")[0].text)\n",
    "    "
   ]
  }
 ],
 "metadata": {
  "kernelspec": {
   "display_name": "Python 3",
   "language": "python",
   "name": "python3"
  },
  "language_info": {
   "codemirror_mode": {
    "name": "ipython",
    "version": 3
   },
   "file_extension": ".py",
   "mimetype": "text/x-python",
   "name": "python",
   "nbconvert_exporter": "python",
   "pygments_lexer": "ipython3",
   "version": "3.6.1"
  }
 },
 "nbformat": 4,
 "nbformat_minor": 2
}
